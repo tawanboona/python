{
 "cells": [
  {
   "cell_type": "code",
   "execution_count": null,
   "id": "5d3b79cd",
   "metadata": {},
   "outputs": [
    {
     "name": "stdout",
     "output_type": "stream",
     "text": [
      "0\n",
      "1\n",
      "2\n",
      "3\n",
      "4\n",
      "5\n"
     ]
    }
   ],
   "source": [
    "for x in range(6):\n",
    "    print(x)"
   ]
  },
  {
   "cell_type": "code",
   "execution_count": 7,
   "id": "8c9d2bd0",
   "metadata": {},
   "outputs": [
    {
     "name": "stdout",
     "output_type": "stream",
     "text": [
      "1\n",
      "6\n",
      "11\n",
      "16\n",
      "21\n",
      "26\n"
     ]
    }
   ],
   "source": [
    "for x in range(1,30,5):\n",
    "    print(x)"
   ]
  },
  {
   "cell_type": "code",
   "execution_count": 8,
   "id": "3c0251fd",
   "metadata": {},
   "outputs": [
    {
     "name": "stdout",
     "output_type": "stream",
     "text": [
      "0\n",
      "1\n",
      "2\n"
     ]
    }
   ],
   "source": [
    "for x in range(6):\n",
    "    if x == 3:\n",
    "        break\n",
    "    print(x)\n",
    "else:\n",
    "    print(\"Finally Finished\")"
   ]
  },
  {
   "cell_type": "code",
   "execution_count": 53,
   "id": "34c6da81",
   "metadata": {},
   "outputs": [
    {
     "name": "stdout",
     "output_type": "stream",
     "text": [
      "apple  is color red\n",
      "banana  is color yellow\n",
      "berry  is color purple\n"
     ]
    }
   ],
   "source": [
    "color = ['red', 'yellow', 'purple']\n",
    "fruits = ['apple', 'banana', 'berry']\n",
    "j = 0\n",
    "for i in fruits:\n",
    "    print(i,\" is color\", color[j])\n",
    "    j = j+1"
   ]
  },
  {
   "cell_type": "code",
   "execution_count": 2,
   "id": "313974b0",
   "metadata": {},
   "outputs": [],
   "source": [
    "fruits = []\n",
    "adj = []\n",
    "j=0\n",
    "while True:\n",
    "    inp_state = input(\"press Q for end, or Enter to any Input: \")\n",
    "    if (inp_state.lower() == \"q\"):\n",
    "        break\n",
    "    else:\n",
    "        inp1 = input(\"Fruit name is: \")\n",
    "        fruits.append(inp1)\n",
    "\n",
    "        inp2 = input(\"Color name is: \")\n",
    "        adj.append(inp2)"
   ]
  },
  {
   "cell_type": "code",
   "execution_count": 4,
   "id": "ba589849",
   "metadata": {},
   "outputs": [
    {
     "name": "stdout",
     "output_type": "stream",
     "text": [
      "aaa  is color sss\n",
      "ddd  is color aaa\n"
     ]
    }
   ],
   "source": [
    "j = 0\n",
    "for i in fruits:\n",
    "    print(i, \" is color\", adj[j])\n",
    "    j = j+1"
   ]
  },
  {
   "cell_type": "code",
   "execution_count": 10,
   "id": "e88942e8",
   "metadata": {},
   "outputs": [
    {
     "name": "stdout",
     "output_type": "stream",
     "text": [
      "16\n",
      "6.0\n"
     ]
    }
   ],
   "source": [
    "x = lambda a : a + 10\n",
    "print(x(6))\n",
    "\n",
    "x = lambda x1,y1,x2,y2,x3,y3 :0.5 * (x1*(y2-y3) + x2*(y3-y1) + x3*(y1-y2))\n",
    "print(x(1,1, 4,1, 1,5))"
   ]
  },
  {
   "cell_type": "code",
   "execution_count": null,
   "id": "52c3c85d",
   "metadata": {},
   "outputs": [
    {
     "name": "stdout",
     "output_type": "stream",
     "text": [
      "sorted by number :  [('cherry', 30), ('banana', 20), ('apple', 10)]\n"
     ]
    }
   ],
   "source": [
    "data = [(\"apple\", 10), (\"banana\", 20), (\"cherry\", 30)]\n",
    "#มี reverse=True จะเรียงจากมากไปน้อย ถ้าไม่มีจะเเรียงจากมากไปน้อย\n",
    "data.sort(key=lambda x: x[1], reverse=True)\n",
    "print(\"sorted by number : \", data)"
   ]
  }
 ],
 "metadata": {
  "kernelspec": {
   "display_name": "Python 3",
   "language": "python",
   "name": "python3"
  },
  "language_info": {
   "codemirror_mode": {
    "name": "ipython",
    "version": 3
   },
   "file_extension": ".py",
   "mimetype": "text/x-python",
   "name": "python",
   "nbconvert_exporter": "python",
   "pygments_lexer": "ipython3",
   "version": "3.11.9"
  }
 },
 "nbformat": 4,
 "nbformat_minor": 5
}

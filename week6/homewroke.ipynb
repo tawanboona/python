{
 "cells": [
  {
   "cell_type": "code",
   "execution_count": null,
   "id": "812edcfa",
   "metadata": {},
   "outputs": [
    {
     "name": "stdout",
     "output_type": "stream",
     "text": [
      "\n",
      "ภาระหน่วยกิจของเเเต่ละวิชา :\n",
      "com (10 credits, 20 students)\n",
      "\n",
      "ภาระหน่วยกิตรวมของแต่ละวิชา: [1500, 2400, 4200, 200]\n"
     ]
    }
   ],
   "source": [
    "class Course:\n",
    "    def __init__(self, course_name, credits, students):\n",
    "        self.course_name = course_name\n",
    "        self.credits = credits\n",
    "        self.students = students\n",
    "\n",
    "    def __str__(self):\n",
    "        return f\"{self.course_name} ({self.credits} credits, {self.students} students)\"\n",
    "\n",
    "courses = [\n",
    "    Course(\"คณิตศาสตร์\", 30, 50),\n",
    "    Course(\"วิทยาศาสตร์\", 40, 60),\n",
    "    Course(\"วิทยาศาสตร์\", 60, 70),\n",
    "]\n",
    "\n",
    "while True:\n",
    "    name = input(\"ป้อนชื่อรายวิชา (หรือ 'Stop' เพื่อออกจากโปรเเกรม) : \")\n",
    "    if name.lower() == 'stop':\n",
    "        break\n",
    "    credits_input = input(\"ป้อนหน่วยกิต: \")\n",
    "    try:\n",
    "        if '.' in credits_input:\n",
    "            credits = float(credits_input)\n",
    "        else:\n",
    "            credits = int(credits_input)\n",
    "    except ValueError:\n",
    "        print(\"กรุณาป้อนหน่วยกิตที่ถูกต้อง\")\n",
    "        continue\n",
    "    students = int(input(\"ป้อนจำนวนนักศึกษา: \"))\n",
    "    courses.append(Course(name, credits, students))\n",
    "\n",
    "print(\"\\nภาระหน่วยกิจของเเเต่ละวิชา :\")\n",
    "low_student_courses = list(filter(lambda c: c.students < 30, courses))\n",
    "for c in low_student_courses:\n",
    "    print(c)\n",
    "\n",
    "total_burden = list(map(lambda c: c.credits * c.students, courses))\n",
    "print(\"\\nภาระหน่วยกิตรวมของแต่ละวิชา:\", total_burden)\n",
    "\n",
    "sorted_burden = sorted(map(lambda c: c.credits * c.students, courses), reverse=True)\n",
    "print(\"\\nเรียงภาระหน่วยกิตจากมากไปน้อย:\", sorted_burden)\n"
   ]
  }
 ],
 "metadata": {
  "kernelspec": {
   "display_name": "Python 3",
   "language": "python",
   "name": "python3"
  },
  "language_info": {
   "codemirror_mode": {
    "name": "ipython",
    "version": 3
   },
   "file_extension": ".py",
   "mimetype": "text/x-python",
   "name": "python",
   "nbconvert_exporter": "python",
   "pygments_lexer": "ipython3",
   "version": "3.11.9"
  }
 },
 "nbformat": 4,
 "nbformat_minor": 5
}

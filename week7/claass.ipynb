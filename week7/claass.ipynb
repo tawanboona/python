{
 "cells": [
  {
   "cell_type": "code",
   "execution_count": 2,
   "id": "02020b51",
   "metadata": {},
   "outputs": [
    {
     "name": "stdout",
     "output_type": "stream",
     "text": [
      "5\n",
      "10\n"
     ]
    }
   ],
   "source": [
    "class myclass:\n",
    "    x = 5\n",
    "    y = 10\n",
    "\n",
    "c1 = myclass\n",
    "print(c1.x)\n",
    "print(c1.y)"
   ]
  },
  {
   "cell_type": "code",
   "execution_count": 3,
   "id": "a56646a5",
   "metadata": {},
   "outputs": [
    {
     "name": "stdout",
     "output_type": "stream",
     "text": [
      "tawan\n",
      "20\n"
     ]
    }
   ],
   "source": [
    "class person:\n",
    "    def __init__(self,name,age):#ใช้ในการสืบทอด\n",
    "        self.name = name\n",
    "        self.age =age\n",
    "\n",
    "p1 = person(\"tawan\",20)\n",
    "\n",
    "print(p1.name)\n",
    "print(p1.age)\n"
   ]
  },
  {
   "cell_type": "code",
   "execution_count": 29,
   "id": "d5d73022",
   "metadata": {},
   "outputs": [
    {
     "name": "stdout",
     "output_type": "stream",
     "text": [
      "['honda', 'Nissan', 'Misumishi', 'bmw']\n"
     ]
    }
   ],
   "source": [
    "class Person:\n",
    "    def __init__(self,name,age):\n",
    "        self.name = name\n",
    "        self.age =age\n",
    "\n",
    "        def printname(self):\n",
    "            print(self.name, self.age)\n",
    "\n",
    "        def data_return(self, gender):\n",
    "            return self.name+\" \"+str(self.age)+\" \"+gender\n",
    "\n",
    "        def profile(gender):\n",
    "            return \"gender :\"+ gender\n",
    "\n",
    "class Cars:\n",
    "    def __init__(self):\n",
    "        self.car_array = []\n",
    "\n",
    "    def data_all(self):\n",
    "        return self.car_array\n",
    "\n",
    "    def data_add(self, brand):\n",
    "        self.car_array.append(brand)\n",
    "\n",
    "    def data_insert(self, index, value):\n",
    "        self.car_array.insert(index, value)\n",
    "\n",
    "    def data_pop(self, index):\n",
    "        self.car_array.pop(index)\n",
    "\n",
    "cars_data = Cars()\n",
    "cars_data.data_add(\"honda\")\n",
    "cars_data.data_add(\"toyota\")\n",
    "cars_data.data_add(\"Misumishi\")\n",
    "\n",
    "cars_data.data_insert(2, \"Nissan\")\n",
    "cars_data.data_add(\"bmw\")\n",
    "cars_data.data_pop(1)\n",
    "\n",
    "print(cars_data.data_all())\n",
    "\n",
    "\n"
   ]
  }
 ],
 "metadata": {
  "kernelspec": {
   "display_name": "Python 3",
   "language": "python",
   "name": "python3"
  },
  "language_info": {
   "codemirror_mode": {
    "name": "ipython",
    "version": 3
   },
   "file_extension": ".py",
   "mimetype": "text/x-python",
   "name": "python",
   "nbconvert_exporter": "python",
   "pygments_lexer": "ipython3",
   "version": "3.11.9"
  }
 },
 "nbformat": 4,
 "nbformat_minor": 5
}

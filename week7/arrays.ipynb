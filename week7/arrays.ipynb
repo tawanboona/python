{
 "cells": [
  {
   "cell_type": "code",
   "execution_count": null,
   "id": "e90181c1",
   "metadata": {},
   "outputs": [
    {
     "name": "stdout",
     "output_type": "stream",
     "text": [
      "['honda', 'ford', 'bmw', 'Toyota']\n"
     ]
    }
   ],
   "source": [
    "cars = [\"ford\",\"volvo\",\"bmw\"]\n",
    "cars_copy = cars.copy()#ใช้กอปปี้ข้อมูลจากด้านบนที่มีอยู่ก่อนหน้าเเล้ว\n",
    "#print(cars_copy)\n",
    "\n",
    "#print(cars)\n",
    "\n",
    "cars[1] = \"Toyota\"\n",
    "\n",
    "#print(cars)\n",
    "x = len(cars)#นับจำนวนข้อมูลที่มีทั้หมด\n",
    "#print(x)\n",
    "\n",
    "cars.append(\"Honda\")#ข้อมูลจะอยู้ท้ายขอ้มูลที่มีอยู่ก่อนหน้า\n",
    "#print(cars)\n",
    "\n",
    "\n",
    "#cars.clear\n",
    "#print(cars)\n",
    "\n",
    "cars.sort(reverse = True)\n",
    "print(cars)"
   ]
  },
  {
   "cell_type": "code",
   "execution_count": null,
   "id": "982e48b5",
   "metadata": {},
   "outputs": [
    {
     "name": "stdout",
     "output_type": "stream",
     "text": [
      "['Toyota', 'volvo', 'Mitsubishi', 'Mitsubishi', 'honda']\n",
      "['Toyota', 'volvo', 'Mitsubishi', 'honda']\n"
     ]
    },
    {
     "ename": "ValueError",
     "evalue": "list.remove(x): x not in list",
     "output_type": "error",
     "traceback": [
      "\u001b[31m---------------------------------------------------------------------------\u001b[39m",
      "\u001b[31mValueError\u001b[39m                                Traceback (most recent call last)",
      "\u001b[36mCell\u001b[39m\u001b[36m \u001b[39m\u001b[32mIn[38]\u001b[39m\u001b[32m, line 7\u001b[39m\n\u001b[32m      4\u001b[39m cars.pop(\u001b[32m3\u001b[39m)\u001b[38;5;66;03m#อาออกตามที่เราลือกตำเหน่งต้องทราบตำเเเหน่ง\u001b[39;00m\n\u001b[32m      5\u001b[39m \u001b[38;5;28mprint\u001b[39m(cars)\n\u001b[32m----> \u001b[39m\u001b[32m7\u001b[39m \u001b[43mcars\u001b[49m\u001b[43m.\u001b[49m\u001b[43mremove\u001b[49m\u001b[43m(\u001b[49m\u001b[33;43m\"\u001b[39;49m\u001b[33;43mford\u001b[39;49m\u001b[33;43m\"\u001b[39;49m\u001b[43m)\u001b[49m\n\u001b[32m      8\u001b[39m \u001b[38;5;28mprint\u001b[39m(cars)\n",
      "\u001b[31mValueError\u001b[39m: list.remove(x): x not in list"
     ]
    }
   ],
   "source": [
    "cars.insert(2, \"Mitsubishi\")#เทรกข้อความำไไปตามตำเหน่งที่เรากำหนด\n",
    "print(cars)\n",
    "\n",
    "cars.pop(3)#อาออกตามที่เราลือกตำเหน่งต้องทราบตำเเเหน่ง\n",
    "print(cars)\n",
    "\n",
    "cars.remove(\"ford\")\n",
    "print(cars)"
   ]
  }
 ],
 "metadata": {
  "kernelspec": {
   "display_name": "Python 3",
   "language": "python",
   "name": "python3"
  },
  "language_info": {
   "codemirror_mode": {
    "name": "ipython",
    "version": 3
   },
   "file_extension": ".py",
   "mimetype": "text/x-python",
   "name": "python",
   "nbconvert_exporter": "python",
   "pygments_lexer": "ipython3",
   "version": "3.11.9"
  }
 },
 "nbformat": 4,
 "nbformat_minor": 5
}

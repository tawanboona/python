{
 "cells": [
  {
   "cell_type": "code",
   "execution_count": 5,
   "id": "e6ac6624",
   "metadata": {},
   "outputs": [
    {
     "name": "stdout",
     "output_type": "stream",
     "text": [
      "<class 'tuple'>\n"
     ]
    }
   ],
   "source": [
    "a = \"Hello World\"\n",
    "b = 20\n",
    "c = 20.5\n",
    "d = 1j\n",
    "e = [\"apple\", \"banana\", \"cherry\"]\n",
    "f = (\"apple\", \"banana\", \"cherry\")\n",
    "g = range (6)\n",
    "h = {\"name\" : \"John\", \"age\" : 36}\n",
    "i = (\"apple\", \"banana\", \"cherry\")\n",
    "j = frozenset({\"apple\", \"banana\", \"cherry\"})\n",
    "k = True\n",
    "l = b\"Hello\"\n",
    "m = bytearray(5)\n",
    "n = memoryview(bytes(5))\n",
    "o = None\n",
    "\n",
    "print(type(f))"
   ]
  }
 ],
 "metadata": {
  "kernelspec": {
   "display_name": "Python 3",
   "language": "python",
   "name": "python3"
  },
  "language_info": {
   "codemirror_mode": {
    "name": "ipython",
    "version": 3
   },
   "file_extension": ".py",
   "mimetype": "text/x-python",
   "name": "python",
   "nbconvert_exporter": "python",
   "pygments_lexer": "ipython3",
   "version": "3.11.9"
  }
 },
 "nbformat": 4,
 "nbformat_minor": 5
}

{
 "cells": [
  {
   "cell_type": "code",
   "execution_count": null,
   "id": "910db6c3",
   "metadata": {},
   "outputs": [
    {
     "name": "stdout",
     "output_type": "stream",
     "text": [
      "False\n",
      "False\n",
      "False\n"
     ]
    }
   ],
   "source": [
    "def new_func():\n",
    "        def cal_grade(point):\n",
    "                if(point>= 80):\n",
    "                        return \"A\"\n",
    "                elif (point >= 75):\n",
    "                        return \"B+\"\n",
    "                elif (point >= 70):\n",
    "                        return \"B\"\n",
    "                elif (point >= 65):\n",
    "                        return \"C+\"\n",
    "                elif (point >= 60):\n",
    "                        return \"C\"\n",
    "                elif (point >= 55):\n",
    "                        return \"D+\"\n",
    "                elif (point >= 50):\n",
    "                        return \"D\"\n",
    "                else:\n",
    "                        return \"E\"\n",
    "\n",
    "count = 0\n",
    "stop = 3\n",
    "\n",
    "while count < stop:\n",
    "        count += 1\n",
    "        Name = input(\"กรอกชื่อ นามสกุล :\") #รับค่าเข้ามาเป็น สติง\n",
    "        ra = input(\"กรอกรหัสนักศึกษา :\") #รับค่าเข้ามาเป็น สติง\n",
    "        inp_point = input(\"กรอกคะเเนน :\") #รับค่าเข้ามาเป็น สติง\n",
    "\n",
    "        if (inp_point.isdigit()):\n",
    "                point = float(inp_point) #เปลงป็น ... int/Float => ex.float\n",
    "\n",
    "                if(point >= 0 and point <= 100):\n",
    "                        print(\"ชื่อ\",Name,\"รหัสนักศึกษา\",ra,\"คะเนน\",point,\"Grade \" ,\"cal_grade\"(point))\n",
    "                else:\n",
    "                        print(\"เงือนไขในการกรอกข้อมูลผิดพลาด\")\n",
    "        else:\n",
    "                print(\"False\")\n",
    "                return new_func()\n"
   ]
  }
 ],
 "metadata": {
  "kernelspec": {
   "display_name": "Python 3",
   "language": "python",
   "name": "python3"
  },
  "language_info": {
   "codemirror_mode": {
    "name": "ipython",
    "version": 3
   },
   "file_extension": ".py",
   "mimetype": "text/x-python",
   "name": "python",
   "nbconvert_exporter": "python",
   "pygments_lexer": "ipython3",
   "version": "3.11.9"
  }
 },
 "nbformat": 4,
 "nbformat_minor": 5
}
